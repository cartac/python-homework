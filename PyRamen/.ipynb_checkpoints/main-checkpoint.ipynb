{
 "cells": [
  {
   "cell_type": "markdown",
   "metadata": {},
   "source": [
    "# PyRamen"
   ]
  },
  {
   "cell_type": "markdown",
   "metadata": {},
   "source": [
    "## Assignment 2 (optional: submitted late)"
   ]
  },
  {
   "cell_type": "markdown",
   "metadata": {},
   "source": [
    "#### Markdown"
   ]
  },
  {
   "cell_type": "markdown",
   "metadata": {},
   "source": [
    "### Reading the Data"
   ]
  },
  {
   "cell_type": "code",
   "execution_count": null,
   "metadata": {},
   "outputs": [],
   "source": [
    "# Import required libraries: Path from pathlib and csv reader\n",
    "from pathlib import Path\n",
    "import csv"
   ]
  },
  {
   "cell_type": "code",
   "execution_count": null,
   "metadata": {},
   "outputs": [],
   "source": [
    "# load csv file(s)\n",
    "menu_path = Path(\"resources/menu_data.csv\")\n",
    "sales_path = Path(\"resources/sales_data.csv\")"
   ]
  },
  {
   "cell_type": "code",
   "execution_count": 3,
   "metadata": {},
   "outputs": [],
   "source": [
    "# initialize empty \"menu\" list objext\n",
    "menu=[] \n",
    "#  Open file and start loop to pull all menu items from csv file\n",
    "with open(menu_path, 'r') as csv_file:\n",
    "     # read csv file\n",
    "    csv_reader=csv.reader(csv_file, delimiter=',')\n",
    "    \n",
    "    # Pull header titles from first row in CSV file\n",
    "    header=next(csv_reader)\n",
    "    \n",
    "    for row in csv_reader:\n",
    "        menu.append([row[0],row[1],row[2],float(row[3]),float(row[4])])  "
   ]
  },
  {
   "cell_type": "code",
   "execution_count": null,
   "metadata": {},
   "outputs": [],
   "source": [
    "# initialize empty \"sales\" list objext\n",
    "sales=[] \n",
    "#  Open file and start loop to pull all sales items from csv file\n",
    "with open(sales_path, 'r') as csv_file:\n",
    "     # read csv file\n",
    "    csv_reader=csv.reader(csv_file, delimiter=',')\n",
    "    \n",
    "    # Pull header titles from first row in CSV file\n",
    "    header=next(csv_reader)\n",
    "    \n",
    "    for row in csv_reader:\n",
    "        sales.append([int(row[0]),row[1],int(row[2]),int(row[3]),row[4]])\n",
    "        "
   ]
  },
  {
   "cell_type": "code",
   "execution_count": null,
   "metadata": {},
   "outputs": [],
   "source": [
    "# I create a loop to drop all the items that do not contain the word ramen. I am dropping nagomi shoyu, which has sales data; however, it doesn;t seem to be ramen\n",
    "reports={}\n",
    "for item in menu:\n",
    "#     print(str(item[0]).split())\n",
    "    for word in str(item[0]).split():\n",
    "        if word.lower()=='ramen':\n",
    "            reports[item[0]]={}\n",
    "   "
   ]
  },
  {
   "cell_type": "code",
   "execution_count": null,
   "metadata": {},
   "outputs": [],
   "source": [
    "# create a function tht counts how many items where sold from sales file\n",
    "def count_quantity(item):\n",
    "    quantity=0\n",
    "    for row in sales:\n",
    "        if row[4]==item:\n",
    "            quantity+=row[3]\n",
    "    return quantity\n",
    "       \n",
    "        "
   ]
  },
  {
   "cell_type": "code",
   "execution_count": null,
   "metadata": {},
   "outputs": [],
   "source": [
    "# create a function that gives you the price of your ramen\n",
    "def price(item):\n",
    "    for row in menu:\n",
    "        if row[0]==item:\n",
    "            price=row[3]\n",
    "    return price"
   ]
  },
  {
   "cell_type": "code",
   "execution_count": null,
   "metadata": {},
   "outputs": [],
   "source": [
    "# create a function that gives you the cost of your ramen\n",
    "def cost(item):\n",
    "    for row in menu:\n",
    "        if row[0]==item:\n",
    "            cost=row[4]\n",
    "    return cost"
   ]
  },
  {
   "cell_type": "code",
   "execution_count": null,
   "metadata": {},
   "outputs": [],
   "source": [
    "# Pull the unit cost\n",
    "for key in reports:\n",
    "    reports[key]={'01-count':count_quantity(key), '02-revenues':count_quantity(key)*price(key), '03-cogs':count_quantity(key)*cost(key), '04-profit':(price(key)-cost(key))*count_quantity(key)}\n",
    "    \n",
    "    "
   ]
  },
  {
   "cell_type": "code",
   "execution_count": null,
   "metadata": {},
   "outputs": [],
   "source": [
    "# Print out in JupyterLab the results\n",
    "for key, values in reports.items():\n",
    "    print(key, values)"
   ]
  },
  {
   "cell_type": "code",
   "execution_count": null,
   "metadata": {},
   "outputs": [],
   "source": [
    "# Save down a file with out as output.txt\n",
    "output_path=Path(\"output.txt\")\n",
    "with open(output_path,'w') as file:\n",
    "    for key, values in reports.items():\n",
    "        file.write(f\"{key, values} \\n\")    \n",
    "         "
   ]
  },
  {
   "cell_type": "code",
   "execution_count": null,
   "metadata": {},
   "outputs": [],
   "source": []
  }
 ],
 "metadata": {
  "kernelspec": {
   "display_name": "python_unit",
   "language": "python",
   "name": "python_unit"
  },
  "language_info": {
   "codemirror_mode": {
    "name": "ipython",
    "version": 3
   },
   "file_extension": ".py",
   "mimetype": "text/x-python",
   "name": "python",
   "nbconvert_exporter": "python",
   "pygments_lexer": "ipython3",
   "version": "3.8.5"
  }
 },
 "nbformat": 4,
 "nbformat_minor": 4
}
