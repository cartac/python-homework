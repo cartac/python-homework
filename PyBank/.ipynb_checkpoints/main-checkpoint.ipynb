{
 "cells": [
  {
   "cell_type": "markdown",
   "metadata": {},
   "source": [
    "# PyBank"
   ]
  },
  {
   "cell_type": "markdown",
   "metadata": {},
   "source": [
    "## Assignment 2"
   ]
  },
  {
   "cell_type": "markdown",
   "metadata": {},
   "source": [
    "#### Carlos Tacchi"
   ]
  },
  {
   "cell_type": "code",
   "execution_count": 1,
   "metadata": {},
   "outputs": [],
   "source": [
    "# Import required libraries: Path from pathlib and csv reader\n",
    "from pathlib import Path\n",
    "import csv"
   ]
  },
  {
   "cell_type": "code",
   "execution_count": 2,
   "metadata": {},
   "outputs": [],
   "source": [
    "# load csv file(s)\n",
    "file_path = Path(\"resources/budget_data.csv\")"
   ]
  },
  {
   "cell_type": "code",
   "execution_count": 3,
   "metadata": {},
   "outputs": [
    {
     "name": "stdout",
     "output_type": "stream",
     "text": [
      "C:\\Users\\carli\\Documents\\Coding_Programs\\FINTECH_Columbia\\00.Homework\\python-homework\\PyBank\n",
      "resources\\budget_data.csv\n"
     ]
    }
   ],
   "source": [
    "# checking paths / not required\n",
    "print(f\"{Path.cwd()}\")\n",
    "print(file_path)"
   ]
  },
  {
   "cell_type": "code",
   "execution_count": 4,
   "metadata": {},
   "outputs": [],
   "source": [
    "# Initialize list that will contain all the data in csv file + calculated change in P&L\n",
    "records=[]\n",
    "\n",
    "# Initialize list other variables used in:\n",
    "# calculation of change in P&L\n",
    "profit_loss=0\n",
    "change=0\n",
    "# count of rows/months\n",
    "row_count=0\n",
    "\n",
    "# open csv file\n",
    "with open(file_path, 'r') as csv_file:\n",
    "    # read csv file\n",
    "    csv_reader=csv.reader(csv_file, delimiter=',')\n",
    "    \n",
    "    # Pull header titles from first row in CSV file\n",
    "    header=next(csv_reader)\n",
    "    \n",
    "    # Add the P&L Change column in header\n",
    "    header.append('P&L Change')\n",
    "    \n",
    "    # I add the header to my records list \n",
    "    records.append(header)\n",
    "    \n",
    "    # Loop into each row\n",
    "    for row in csv_reader:\n",
    "        # I add an empty variable in new element of list, called change. First month therefoer no way to calculate change \n",
    "        if row_count == 0:\n",
    "            change=''\n",
    "            row.append(change)\n",
    "            # intended to store previous month's row\n",
    "            profit_loss=int(row[1])\n",
    "        # for all the other months, i calculate the change in months\n",
    "        if row_count > 0:\n",
    "            # calculate change in P&L in the month\n",
    "            change=int(row[1])-profit_loss\n",
    "            \n",
    "            # intended to store previous month's row\n",
    "            profit_loss=int(row[1])\n",
    "            \n",
    "            #add the change as an element to the other elements from csv file\n",
    "            row.append(change)\n",
    "        #append the entire row, containing csv data + calculated field\n",
    "        records.append([row[0],float(row[1]),row[2]])\n",
    "        \n",
    "        #row counter\n",
    "        row_count+=1   \n",
    "        \n",
    "    \n",
    "    # I calculate the total number of months that is equal to the total number of rows. No need to substract 1 because it already started below the header\n",
    "    total_months= row_count\n",
    "    \n",
    "    \n",
    "    "
   ]
  },
  {
   "cell_type": "code",
   "execution_count": 5,
   "metadata": {},
   "outputs": [],
   "source": [
    "# define variable that will sum otal profit/losses\n",
    "total_profits=0\n",
    "\n",
    "#define variables that will store min month and min monthly profit/loss\n",
    "min_month=''\n",
    "min_daily_profit_change=0\n",
    "\n",
    "#define variables that will store max month and max monthly profit/loss\n",
    "max_month=''\n",
    "max_daily_profit_change=0\n",
    "\n",
    "# I create a counter for the average calculation and initialize average\n",
    "average=0\n",
    "average_counter=0\n",
    "\n",
    "# I create a counter to start average and min/max calculations after row 1\n",
    "row_count=0\n",
    "\n",
    "#start the loop to calculate min, max and average monthly change\n",
    "for i in records[1:]:\n",
    "    total_profits+=i[1]\n",
    "    if row_count>0:\n",
    "        #calculate average\n",
    "        average+=i[2]\n",
    "        average_counter+=1\n",
    "        #calculate the max daily change\n",
    "        if i[2]>max_daily_profit_change:\n",
    "            max_daily_profit_change=i[2]\n",
    "            max_month=i[0]\n",
    "        #calculate the min daily change\n",
    "        if i[2]<min_daily_profit_change:\n",
    "            min_daily_profit_change=i[2]\n",
    "            min_month=i[0]\n",
    "        #calculate the min daily change\n",
    "    row_count+=1\n",
    "average=average/(average_counter)\n",
    "\n"
   ]
  },
  {
   "cell_type": "code",
   "execution_count": 6,
   "metadata": {},
   "outputs": [
    {
     "name": "stdout",
     "output_type": "stream",
     "text": [
      "Financial Analysis\n",
      "\n",
      "----------------------------\n",
      "\n",
      "Total Months: 86 \n",
      "\n",
      "Total P&L: $38,382,578.0 \n",
      "\n",
      "Average Change: $-2,315.12\n",
      "\n",
      "Greatest Increase in Profits: Feb-2012 ($1,926,159)\n",
      "\n",
      "Greatest Decrease in Profits: Sep-2013 ($-2,196,167)\n",
      "\n"
     ]
    }
   ],
   "source": [
    "print(\"Financial Analysis\\n\")\n",
    "print(\"----------------------------\\n\")\n",
    "print(f\"Total Months: {total_months} \\n\")\n",
    "print(f\"Total P&L: ${total_profits:,} \\n\")\n",
    "print(f\"Average Change: ${average:,.2f}\\n\")\n",
    "print(f\"Greatest Increase in Profits: {max_month} (${max_daily_profit_change:,})\\n\")\n",
    "print(f\"Greatest Decrease in Profits: {min_month} (${min_daily_profit_change:,})\\n\")      "
   ]
  },
  {
   "cell_type": "code",
   "execution_count": 7,
   "metadata": {},
   "outputs": [],
   "source": [
    "# Save down a file with out as output.txt\n",
    "output_path=Path(\"output.txt\")\n",
    "with open(output_path,'w') as file:\n",
    "        file.write(\"Financial Analysis\\n\")\n",
    "        file.write(\"----------------------------\\n\")\n",
    "        file.write(f\"Total Months: {total_months} \\n\")\n",
    "        file.write(f\"Total P&L: ${total_profits:,} \\n\")\n",
    "        file.write(f\"Average Change: ${average:,.2f}\\n\")\n",
    "        file.write(f\"Greatest Increase in Profits: {max_month} (${max_daily_profit_change:,})\\n\")\n",
    "        file.write(f\"Greatest Decrease in Profits: {min_month} (${min_daily_profit_change:,})\\n\")         "
   ]
  }
 ],
 "metadata": {
  "kernelspec": {
   "display_name": "python_unit",
   "language": "python",
   "name": "python_unit"
  },
  "language_info": {
   "codemirror_mode": {
    "name": "ipython",
    "version": 3
   },
   "file_extension": ".py",
   "mimetype": "text/x-python",
   "name": "python",
   "nbconvert_exporter": "python",
   "pygments_lexer": "ipython3",
   "version": "3.8.5"
  }
 },
 "nbformat": 4,
 "nbformat_minor": 4
}
