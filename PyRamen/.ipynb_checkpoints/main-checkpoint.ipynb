{
 "cells": [
  {
   "cell_type": "markdown",
   "metadata": {},
   "source": [
    "# PyRamen"
   ]
  },
  {
   "cell_type": "markdown",
   "metadata": {},
   "source": [
    "## Assignment 2"
   ]
  },
  {
   "cell_type": "markdown",
   "metadata": {},
   "source": [
    "#### Markdown"
   ]
  },
  {
   "cell_type": "markdown",
   "metadata": {},
   "source": [
    "### Reading the Data"
   ]
  },
  {
   "cell_type": "code",
   "execution_count": 35,
   "metadata": {},
   "outputs": [],
   "source": [
    "# Import required libraries: Path from pathlib and csv reader\n",
    "from pathlib import Path\n",
    "import csv"
   ]
  },
  {
   "cell_type": "code",
   "execution_count": 36,
   "metadata": {},
   "outputs": [],
   "source": [
    "# load csv file(s)\n",
    "menu_path = Path(\"resources/menu_data.csv\")\n",
    "sales_path = Path(\"resources/sales_data.csv\")"
   ]
  },
  {
   "cell_type": "code",
   "execution_count": 120,
   "metadata": {},
   "outputs": [],
   "source": [
    "# initialize empty \"menu\" list objext\n",
    "menu=[] \n",
    "#  Open file and start loop to pull all menu items from csv file\n",
    "with open(menu_path, 'r') as csv_file:\n",
    "     # read csv file\n",
    "    csv_reader=csv.reader(csv_file, delimiter=',')\n",
    "    \n",
    "    # Pull header titles from first row in CSV file\n",
    "    header=next(csv_reader)\n",
    "    \n",
    "    for row in csv_reader:\n",
    "        menu.append([row[0],row[1],row[2],float(row[3]),float(row[4])])  "
   ]
  },
  {
   "cell_type": "code",
   "execution_count": 121,
   "metadata": {},
   "outputs": [],
   "source": [
    "# initialize empty \"sales\" list objext\n",
    "sales=[] \n",
    "#  Open file and start loop to pull all sales items from csv file\n",
    "with open(sales_path, 'r') as csv_file:\n",
    "     # read csv file\n",
    "    csv_reader=csv.reader(csv_file, delimiter=',')\n",
    "    \n",
    "    # Pull header titles from first row in CSV file\n",
    "    header=next(csv_reader)\n",
    "    \n",
    "    for row in csv_reader:\n",
    "        sales.append([int(row[0]),row[1],int(row[2]),int(row[3]),row[4]])\n",
    "        "
   ]
  },
  {
   "cell_type": "code",
   "execution_count": 146,
   "metadata": {},
   "outputs": [],
   "source": [
    "# I create a loop to drop all the items that do not contain the word ramen. I am dropping nagomi shoyu, which has sales data; however, it doesn;t seem to be ramen\n",
    "reports={}\n",
    "for item in menu:\n",
    "#     print(str(item[0]).split())\n",
    "    for word in str(item[0]).split():\n",
    "        if word.lower()=='ramen':\n",
    "            reports[item[0]]=[]\n",
    "   "
   ]
  },
  {
   "cell_type": "code",
   "execution_count": 147,
   "metadata": {},
   "outputs": [
    {
     "name": "stdout",
     "output_type": "stream",
     "text": [
      "{'shio ramen': [], 'spicy miso ramen': [], 'miso crab ramen': [], 'soft-shell miso crab ramen': [], 'tori paitan ramen': [], 'tonkotsu ramen': [], 'burnt garlic tonkotsu ramen': [], 'vegetarian curry + king trumpet mushroom ramen': [], 'truffle butter ramen': []}\n"
     ]
    }
   ],
   "source": [
    "print(reports)\n"
   ]
  },
  {
   "cell_type": "code",
   "execution_count": null,
   "metadata": {},
   "outputs": [],
   "source": []
  },
  {
   "cell_type": "code",
   "execution_count": 148,
   "metadata": {},
   "outputs": [],
   "source": [
    "# create a function tht counts how many items where sold from sales file\n",
    "def count_quantity(item):\n",
    "    quantity=0\n",
    "    for row in sales:\n",
    "        if row[4]==item:\n",
    "            quantity+=row[3]\n",
    "    return quantity\n",
    "       \n",
    "        "
   ]
  },
  {
   "cell_type": "code",
   "execution_count": 156,
   "metadata": {},
   "outputs": [],
   "source": [
    "# create a function that gives you the price of your ramen\n",
    "def price(item):\n",
    "    for row in menu:\n",
    "        if row[0]==item:\n",
    "            price=row[3]\n",
    "    return price"
   ]
  },
  {
   "cell_type": "code",
   "execution_count": 161,
   "metadata": {},
   "outputs": [],
   "source": [
    "# create a function that gives you the cost of your ramen\n",
    "def cost(item):\n",
    "    for row in menu:\n",
    "        if row[0]==item:\n",
    "            cost=row[4]\n",
    "    return cost"
   ]
  },
  {
   "cell_type": "code",
   "execution_count": 160,
   "metadata": {},
   "outputs": [
    {
     "data": {
      "text/plain": [
       "9070"
      ]
     },
     "execution_count": 160,
     "metadata": {},
     "output_type": "execute_result"
    }
   ],
   "source": [
    "count_quantity('burnt garlic tonkotsu ramen')\n",
    "\n"
   ]
  },
  {
   "cell_type": "code",
   "execution_count": 162,
   "metadata": {},
   "outputs": [
    {
     "data": {
      "text/plain": [
       "6.0"
      ]
     },
     "execution_count": 162,
     "metadata": {},
     "output_type": "execute_result"
    }
   ],
   "source": [
    "cost('burnt garlic tonkotsu ramen')\n"
   ]
  },
  {
   "cell_type": "code",
   "execution_count": 158,
   "metadata": {},
   "outputs": [
    {
     "data": {
      "text/plain": [
       "14.0"
      ]
     },
     "execution_count": 158,
     "metadata": {},
     "output_type": "execute_result"
    }
   ],
   "source": [
    "price('burnt garlic tonkotsu ramen')"
   ]
  },
  {
   "cell_type": "code",
   "execution_count": 131,
   "metadata": {},
   "outputs": [
    {
     "data": {
      "text/plain": [
       "8890"
      ]
     },
     "execution_count": 131,
     "metadata": {},
     "output_type": "execute_result"
    }
   ],
   "source": [
    "count_quantity('miso crab ramen')"
   ]
  },
  {
   "cell_type": "code",
   "execution_count": 152,
   "metadata": {},
   "outputs": [
    {
     "name": "stdout",
     "output_type": "stream",
     "text": [
      "shio ramen\n",
      "9180\n",
      "spicy miso ramen\n",
      "9238\n",
      "miso crab ramen\n",
      "8890\n",
      "soft-shell miso crab ramen\n",
      "9130\n",
      "tori paitan ramen\n",
      "9156\n",
      "tonkotsu ramen\n",
      "9288\n",
      "burnt garlic tonkotsu ramen\n",
      "9070\n",
      "vegetarian curry + king trumpet mushroom ramen\n",
      "8824\n",
      "truffle butter ramen\n",
      "8982\n"
     ]
    }
   ],
   "source": [
    "# count how many items of each product were sold\n",
    "for key in reports:\n",
    "    count_quantity(key)\n",
    "    reports[key]=count_quantity(key)\n",
    "    print(key)\n",
    "    print(count_quantity(key))"
   ]
  },
  {
   "cell_type": "code",
   "execution_count": 181,
   "metadata": {},
   "outputs": [],
   "source": [
    "# Pull the unit cost\n",
    "for key in reports:\n",
    "reports[key]={count_quantity(key),count_quantity(key)*cost(key),count_quantity(key)*price(key),(price(key)-cost(key))*count_quantity(key),cost(key),price(key)}\n",
    "    #     reports[key]={count_quantity(key),count_quantity(key)*cost(key),count_quantity(key)*price(key),(price(key)-cost(key))*count_quantity(key),cost(key),price(key)}\n",
    "    \n",
    "    "
   ]
  },
  {
   "cell_type": "code",
   "execution_count": 182,
   "metadata": {},
   "outputs": [
    {
     "data": {
      "text/plain": [
       "{'shio ramen': {5.0, 11.0, 9180, 45900.0, 55080.0, 100980.0},\n",
       " 'spicy miso ramen': {5.0, 12.0, 9238, 46190.0, 64666.0, 110856.0},\n",
       " 'miso crab ramen': {6.0, 12.0, 8890, 53340.0, 106680.0},\n",
       " 'soft-shell miso crab ramen': {7.0, 14.0, 9130, 63910.0, 127820.0},\n",
       " 'tori paitan ramen': {6.0, 13.0, 9156, 54936.0, 64092.0, 119028.0},\n",
       " 'tonkotsu ramen': {6.0, 13.0, 9288, 55728.0, 65016.0, 120744.0},\n",
       " 'burnt garlic tonkotsu ramen': {6.0, 14.0, 9070, 54420.0, 72560.0, 126980.0},\n",
       " 'vegetarian curry + king trumpet mushroom ramen': {7.0,\n",
       "  13.0,\n",
       "  8824,\n",
       "  52944.0,\n",
       "  61768.0,\n",
       "  114712.0},\n",
       " 'truffle butter ramen': {7.0, 14.0, 8982, 62874.0, 125748.0}}"
      ]
     },
     "execution_count": 182,
     "metadata": {},
     "output_type": "execute_result"
    }
   ],
   "source": [
    "reports"
   ]
  },
  {
   "cell_type": "code",
   "execution_count": null,
   "metadata": {},
   "outputs": [],
   "source": []
  },
  {
   "cell_type": "code",
   "execution_count": null,
   "metadata": {},
   "outputs": [],
   "source": []
  }
 ],
 "metadata": {
  "kernelspec": {
   "display_name": "python_unit",
   "language": "python",
   "name": "python_unit"
  },
  "language_info": {
   "codemirror_mode": {
    "name": "ipython",
    "version": 3
   },
   "file_extension": ".py",
   "mimetype": "text/x-python",
   "name": "python",
   "nbconvert_exporter": "python",
   "pygments_lexer": "ipython3",
   "version": "3.8.5"
  }
 },
 "nbformat": 4,
 "nbformat_minor": 4
}
